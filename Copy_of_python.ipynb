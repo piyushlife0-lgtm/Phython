{
  "nbformat": 4,
  "nbformat_minor": 0,
  "metadata": {
    "colab": {
      "provenance": [],
      "toc_visible": true
    },
    "kernelspec": {
      "name": "python3",
      "display_name": "Python 3"
    },
    "language_info": {
      "name": "python"
    }
  },
  "cells": [
    {
      "cell_type": "markdown",
      "source": [
        "#PYTHON\n"
      ],
      "metadata": {
        "id": "L5OY1OakMUvS"
      }
    },
    {
      "cell_type": "markdown",
      "source": [
        "1.What is pthyon,and why it is popular?\n",
        "-A formal programming language for creating instructions for computer to follow.Its is popular because-\n",
        "*simplicity-for eg:python's syntax is designed to easy to understand.\n",
        "*wide applications-for eg;used in diverse field such as web development.\n",
        "*vast libraries and frameworks-for eg;boasts large ecosytsem by providing ready to use function.\n",
        "*lagre community-for eg;offers support through online resources.\n",
        "*intergration capabilities-for eg; integrate with programming language like c++,c and java.\n"
      ],
      "metadata": {
        "id": "j7jiMls3M04V"
      }
    },
    {
      "cell_type": "markdown",
      "source": [
        "2.What is an interpreter in python?\n",
        "-A python interpreter reads and runs your code one line at a time.Unlike a complier,which translate the whole program before running it,an interpreter works step by step.\n",
        "some steps as follows-\n",
        "1.source code analysis\n",
        "2.parsing\n",
        "3.compilation\n",
        "4.excuetion\n",
        "\n",
        "3.What are pre-defined keywords in python?\n",
        "-In Python, predefined keywords are reserved terms that carry specific meanings and serve essential roles in the language's syntax. Because of their built-in functionality, these keywords cannot be repurposed by programmers as names for variables, functions, or classes.\n"
      ],
      "metadata": {
        "id": "ScBgMN20Y0LE"
      }
    },
    {
      "cell_type": "markdown",
      "source": [
        "4.Can keywords be used as variable names?\n",
        "-No, keywords cannot be used as the names of variables, functions, and classes or any other identifier.\n"
      ],
      "metadata": {
        "id": "zqrgUEfJldOb"
      }
    },
    {
      "cell_type": "markdown",
      "source": [
        "5.What is mutability in python?\n",
        "-Mutability means whether or not something can be changed after it's created.\n",
        "🧠 Think of it like this:\n",
        "If an object can be changed, it's mutable.\n",
        "If it cannot be changed, it's immutable."
      ],
      "metadata": {
        "id": "0VRVXN5BmRdD"
      }
    },
    {
      "cell_type": "markdown",
      "source": [
        "6.Why are lists mutable,but tuples are immutable?\n",
        "-Lists are like baskets: You can open them up, take things out, put new things in, or rearrange them.\n",
        "Tuples are like sealed boxes: Once you pack them and seal them, you cannot change what is inside.\n",
        "Tuples are meant to be fixed and safe.\n",
        "Once you create a tuple, it cannot be changed—this helps prevent accidental changes."
      ],
      "metadata": {
        "id": "QAb30gOjeCar"
      }
    },
    {
      "cell_type": "markdown",
      "source": [
        "7.What is difference between '=='and 'is'operators in python?\n",
        "-Use == when you care about what is inside, and use is when you care about whether it is the exact same object.\n",
        "for Example\n",
        "==\tSame value\t[1, 2] == [1, 2] → True\n",
        "is\tSame object\t[1, 2] is [1, 2] → False"
      ],
      "metadata": {
        "id": "nks2iLWbg-JM"
      }
    },
    {
      "cell_type": "markdown",
      "source": [
        "8.Wat are logical operators in python?\n",
        "-Logical operators are used to combine conditions or make decisions.\n",
        "There are three main logical operators:\n",
        "Operator Example;-\n",
        "and\tBoth conditions must be True\tTrue and True → True\n",
        "or\tAt least one condition must be True\tTrue or False → True\n",
        "not\tFlips the result (True ↔ False)\tnot True → False\n"
      ],
      "metadata": {
        "id": "x2gEMRs1ieUT"
      }
    },
    {
      "cell_type": "markdown",
      "source": [
        "9.What is type casting in python?\n",
        "-Type casting in Python means changing the type of a value from one data type to another. It is like telling Python, “Hey, treat this thing as something else.”\n",
        "For example-\n",
        "x = \"123\"       # x is a string\n",
        "y = int(x)      # y is now an integer\n",
        "print(y + 1)    # Output: 124\n"
      ],
      "metadata": {
        "id": "2v6s9Zsljevq"
      }
    },
    {
      "cell_type": "markdown",
      "source": [
        "10.What is the difference between implicit and explicit type casting?\n",
        "-1.Implicit Type Casting\n",
        "Python automatically converts one data type to another when needed. You do not have to do anything—it just happens behind the scenes.\n",
        "Example:\n",
        "python\n",
        "x = 10       # Integer\n",
        "y = 2.5      # Float\n",
        "z = x + y    # Python converts x to float\n",
        "print(z)     # Output: 12.5\n",
        "2.✍️ Explicit Type Casting\n",
        "You manually convert a value from one type to another using functions like int(), float(), str(), etc.\n",
        "Example:\n",
        "python\n",
        "a = \"100\"\n",
        "b = int(a)   # You explicitly cast string to int\n",
        "print(b + 50)  # Output: 150"
      ],
      "metadata": {
        "id": "95P6Bfq7k57z"
      }
    },
    {
      "cell_type": "markdown",
      "source": [
        "11.What is the purpose of conditional statements in python?\n",
        "-Conditional statements in Python are used to make decisions in your code. They let your program choose different paths based on whether something is true or false.\n",
        "*Purpose of Conditional Statements:\n",
        "1.Control the flow of your program.\n",
        "2.Run specific code only when certain conditions are met.\n",
        "3.Make your program dynamic and responsive."
      ],
      "metadata": {
        "id": "U2TI0uXymdaU"
      }
    },
    {
      "cell_type": "markdown",
      "source": [
        "12.How does the elif statement work?\n",
        "-The elif statement is short for \"else if\", and it's used to check multiple conditions in a sequence after an initial if statement. It allows your program to make decisions based on more than two possible paths.\n",
        "Python checks the if condition first.\n",
        "If if is False, it checks each elif condition in order.\n",
        "If an elif condition is True, that block runs and the rest are skipped.\n",
        "If none of the if or elif conditions are True, the else block runs."
      ],
      "metadata": {
        "id": "3ZKgwU7AnZma"
      }
    },
    {
      "cell_type": "markdown",
      "source": [
        "13.What is the difference between for and while loops?\n",
        "-Both for and while loops are used to repeat a block of code, but they differ in how and when they evaluate the condition for repetition.\n",
        "🔁 for Loop\n",
        "Used when the number of iterations is known or finite.\n",
        "✅ Syntax:\n",
        "python\n",
        "for i in range(5):\n",
        "    print(i)\n",
        "🔄 while Loop\n",
        "Used when the number of iterations is unknown or depends on a condition.\n",
        "✅ Syntax:\n",
        "python\n",
        "i = 0\n",
        "while i < 5:\n",
        "    print(i)\n",
        "    i += 1"
      ],
      "metadata": {
        "id": "L7v2fdD6qXny"
      }
    },
    {
      "cell_type": "markdown",
      "source": [
        "14.Describe a scenerio where a while loop is more suitable than a for loop?\n",
        "-While loops and for loops both serve to repeat code, but they shine in different scenarios.\n",
        "*Why a while loop works better here:\n",
        "1.No predetermined number of iterations\n",
        "2.Condition-based repetition\n",
        "3.More natural for indefinite process\n",
        "*When a for loop would be better:\n",
        "If you do know the number of iterations ahead of time—like looping through a list or running something 10 times—a for loop is usually cleaner and more readable."
      ],
      "metadata": {
        "id": "vAtgOsaesi_8"
      }
    },
    {
      "cell_type": "markdown",
      "source": [],
      "metadata": {
        "id": "sTDDK3nFb4jt"
      }
    }
  ]
}