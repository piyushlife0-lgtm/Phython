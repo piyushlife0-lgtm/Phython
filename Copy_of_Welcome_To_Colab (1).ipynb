{
  "cells": [
    {
      "cell_type": "markdown",
      "source": [
        "PRACTICAL QUESTIONS"
      ],
      "metadata": {
        "id": "H5nawQPlcsq3"
      }
    },
    {
      "cell_type": "code",
      "source": [
        "1.Write a python program to print ''Hello,world''!\n",
        "-print(\"Hello, world!\")"
      ],
      "metadata": {
        "id": "L89_SpZMc0j5"
      },
      "execution_count": null,
      "outputs": []
    },
    {
      "cell_type": "markdown",
      "source": [
        "2.Write a python program that displays your name and age.\n",
        "-name = input(\"RIYA: \")\n",
        "age = input(\"26: \")\n",
        "print(\"Hello,\", RIYA + \"!\")\n",
        "print(I AM \", 26,\"years old.\")"
      ],
      "metadata": {
        "id": "Jio0WEQAe6Va"
      }
    },
    {
      "cell_type": "markdown",
      "source": [
        "3.Write code to print all the pre defined keywords in python using the keyword library.\n",
        "-keywords = keyword.kwlist\n",
        "for kw in keywords:\n",
        "    print(kw)"
      ],
      "metadata": {
        "id": "msF91KeggZ3T"
      }
    },
    {
      "cell_type": "markdown",
      "source": [
        "4.Write a program that checks if a given word is a python keyword.\n",
        "-# Ask the user to enter a word\n",
        "word = input(\"Enter a word: \")\n",
        "if keyword.iskeyword(word):\n",
        "    print(f\"'{word}' is a Python keyword.\")\n",
        "else:\n",
        "    print(f\"'{word}' is NOT a Python keyword.\")"
      ],
      "metadata": {
        "id": "7QI90i5yhkDH"
      }
    },
    {
      "cell_type": "markdown",
      "source": [
        "5..Create a list and tuple in python and demonstrate how attempting to change an element works differently for each.\n",
        "my_list = [1, 2, 3]\n",
        "print(\"Original list:\", my_list)\n",
        "# Change the second element\n",
        "my_list[1] = 99\n",
        "print(\"Modified list:\", my_list)\n",
        "# Create a tuple\n",
        "my_tuple = (1, 2, 3)\n",
        "print(\"Original tuple:\", my_tuple)\n",
        "# Try to change the second element (this will cause an error)\n",
        "my_tuple[1] = 99\n"
      ],
      "metadata": {
        "id": "SxrPsg3oiMR6"
      }
    },
    {
      "cell_type": "markdown",
      "source": [
        "6.Write a function to demonstrate the behavior of mutable immutable arguments.\n",
        "-ef change_values(my_list, my_number):\n",
        "    my_list.append(4)   \n",
        "    my_number += 1         \n",
        "    print(\"Inside function:\")\n",
        "    print(\"List:\", my_list)\n",
        "    print(\"Number:\", my_number)"
      ],
      "metadata": {
        "id": "kvq5n6fMjAmS"
      }
    },
    {
      "cell_type": "markdown",
      "source": [
        "7.Write a program that performs basic arithmetic operations of two user input numbers.\n",
        "-num1 = float(input(\"Enter first number: \"))\n",
        "num2 = float(input(\"Enter second number: \"))\n",
        "print(\"Addition:\", num1 + num2)\n",
        "print(\"Subtraction:\", num1 - num2)\n",
        "print(\"Multiplication:\", num1 * num2)\n",
        "print(\"Division:\", num1 / num2)"
      ],
      "metadata": {
        "id": "GIr5ko1emgwy"
      }
    },
    {
      "cell_type": "markdown",
      "source": [
        "8.Write a program to demonstrate the use of logical operators.\n",
        "-x=True\n",
        "y=False\n",
        "\n",
        "print(\"x and y:\",x and y)\n",
        "print(\"x or y:\",x or y)\n",
        "print(\"not x:\",not x)\n"
      ],
      "metadata": {
        "id": "qOEUxk2QnXbq"
      }
    },
    {
      "cell_type": "markdown",
      "source": [
        "9.write a python program to convert user input from string to integer,float and boolean types.\n",
        "- integer_value = int(user_string)\n",
        "print(f\"Converted to Integer: {integer_value}\n",
        "float_value = float(user_string)\n",
        "print(f\"Converted to Float: {float_value}\n",
        "boolean_value =bool(int_val)\n",
        "print(\"boolen:\",bool_val)\n"
      ],
      "metadata": {
        "id": "nRlTkHxoouoC"
      }
    },
    {
      "cell_type": "markdown",
      "source": [
        "10.Write code to demonstrate type casting with list elements.\n",
        "-string_numbers = [\"1\", \"2\", \"3\", \"4\"]\n",
        "integer_list.append(int(item))\n",
        "print(\"list of integers:\"int_list)\n"
      ],
      "metadata": {
        "id": "1_7JrhCIq59L"
      }
    },
    {
      "cell_type": "markdown",
      "source": [
        "11.Write a program that checks if a number is positive,negative or zero.\n",
        "-num=float(input(\"enter a number:\"\n",
        "if number > 0:\n",
        "    return \"positive\"\n",
        "  elif number < 0:\n",
        "    return \"negative\"\n",
        "  else:\n",
        "    return \"zero\""
      ],
      "metadata": {
        "id": "ryCcVY5isr3u"
      }
    },
    {
      "cell_type": "markdown",
      "source": [
        "12.Write a for loop to print number from 1to 10.\n",
        "-for i in range(1,11):\n",
        "print(i)\n"
      ],
      "metadata": {
        "id": "Lxp4SWFet5_5"
      }
    },
    {
      "cell_type": "markdown",
      "source": [
        "13.write a python program to find the sum of all even numbers between 1 and 50.\n",
        "-total = 0\n",
        "for number in range(1, 51)\n",
        "if number % 2 == 0:\n",
        "print(\"sum of all even numbers between 1 and 50 is:\", total_sum)\n"
      ],
      "metadata": {
        "id": "1dX2ZGRauREZ"
      }
    },
    {
      "cell_type": "markdown",
      "source": [
        "14.write a program to reverse a string using a while loop.\n",
        "- string = input(\"enter a string:\")\n",
        "reversed_string = \"\"\n",
        "    while i >= 0:\n",
        "        reversed_string += input_string[index]\n",
        "        i-= 1  \n",
        "        print(Reversed string.\",reversed\n",
        "        _string)\n",
        "        "
      ],
      "metadata": {
        "id": "qIjQ0vSGvPri"
      }
    },
    {
      "cell_type": "markdown",
      "source": [
        "15.Write a python program to calculate the factorial of a number provided by the user using a while loop.\n",
        "- #Get input from user\n",
        "num=int(input(\"enter a number to calculate its factorrial:\"))\n",
        "#Intialize variables\n",
        "factorial=1\n",
        "i=1\n",
        "#Calculate factorial using a while loop\n",
        "while i <= num:\n",
        "factorial *=i\n",
        "i += 1\n",
        "print(f\"the factorial of {num} is : {factorial}\")"
      ],
      "metadata": {
        "id": "IWUI76vmwrWi"
      }
    },
    {
      "cell_type": "code",
      "source": [
        "*"
      ],
      "metadata": {
        "id": "fNHHLniiyiVb"
      },
      "execution_count": null,
      "outputs": []
    }
  ],
  "metadata": {
    "colab": {
      "provenance": [],
      "toc_visible": true
    },
    "kernelspec": {
      "display_name": "Python 3",
      "name": "python3"
    }
  },
  "nbformat": 4,
  "nbformat_minor": 0
}